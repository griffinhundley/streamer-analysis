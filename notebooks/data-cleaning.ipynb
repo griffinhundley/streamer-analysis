{
 "cells": [
  {
   "cell_type": "code",
   "execution_count": 1,
   "metadata": {},
   "outputs": [],
   "source": [
    "from glob import glob\n",
    "from src.scraping import soup_parser\n",
    "from bs4 import BeautifulSoup\n",
    "import pandas as pd"
   ]
  },
  {
   "cell_type": "code",
   "execution_count": 8,
   "metadata": {},
   "outputs": [],
   "source": [
    "pd.set_option('display.max_columns', None)"
   ]
  },
  {
   "cell_type": "code",
   "execution_count": null,
   "metadata": {},
   "outputs": [],
   "source": [
    "# data_list = []\n",
    "# for f in glob('../html/tw*.html'):\n",
    "#     with open(f, 'r') as f2:\n",
    "#         html = f2.read()\n",
    "#         to_be_parsed = BeautifulSoup(html)\n",
    "#         f2.close()\n",
    "#         data = soup_parser(to_be_parsed)\n",
    "#         data_list.append(data)\n",
    "# data_list = [x for x in data_list if x != None]\n",
    "# df = pd.DataFrame(data_list)"
   ]
  },
  {
   "cell_type": "code",
   "execution_count": 2,
   "metadata": {},
   "outputs": [],
   "source": [
    "df = pd.read_csv('parsed_soup_raw.csv').drop(columns = 'Unnamed: 0')"
   ]
  },
  {
   "cell_type": "code",
   "execution_count": 3,
   "metadata": {},
   "outputs": [],
   "source": [
    "streamer_df = pd.read_csv('merged_df.csv')\n",
    "streamer_df.drop(columns = 'Unnamed: 0', inplace = True)"
   ]
  },
  {
   "cell_type": "code",
   "execution_count": 4,
   "metadata": {},
   "outputs": [],
   "source": [
    "df.login = df.login.map(lambda x: x.split('\\n')[1] if '\\n' in x else x)\n",
    "df.login = df.login.str.lower()"
   ]
  },
  {
   "cell_type": "code",
   "execution_count": 16,
   "metadata": {},
   "outputs": [],
   "source": [
    "working_df = streamer_df.join(df.set_index('login'),\n",
    "                              on = 'login',\n",
    "                              lsuffix = '_left',\n",
    "                              rsuffix = '_right').drop(columns = 'type_right').dropna(axis = 0, subset = {'Hours streamed'})"
   ]
  },
  {
   "cell_type": "code",
   "execution_count": 18,
   "metadata": {},
   "outputs": [],
   "source": [
    "cleaning_df = working_df.drop(columns = ['user_id',\n",
    "                                         'user_name',\n",
    "                                         'viewer_count',\n",
    "                                         'type_left',\n",
    "                                         'display_name',\n",
    "                                         'description',\n",
    "                                         'created_at',\n",
    "                                         'profile_image_url',\n",
    "                                         'offline_image_url',\n",
    "                                         'game_id',\n",
    "                                         'Followers',\n",
    "                                         'Views', \n",
    "                                         'Hours watched daily',\n",
    "                                         'Views to date'\n",
    "                          ]\n",
    "               )\n",
    "cleaning_df.reset_index(drop=True, inplace = True)\n",
    "cleaning_df.columns = cleaning_df.columns.str.lower().str.replace(' ', '_')\n",
    "cleaning_df.broadcaster_type = cleaning_df.broadcaster_type.fillna('unpartnered')\n",
    "cleaning_df.account_age = pd.to_timedelta(cleaning_df.account_age)\n",
    "cleaning_df.view_count = cleaning_df.view_count.astype('int')\n",
    "cleaning_list = ['hours_streamed',\n",
    "             'average_viewers',\n",
    "             'peak_viewers', \n",
    "             'days_of_activity',\n",
    "             'total_games_streamed',\n",
    "             'followers_per_stream',\n",
    "             'views_per_stream',\n",
    "             'followers_per_hour',\n",
    "             'views_per_hour',\n",
    "             'hours_watched',\n",
    "             'followers_to_date',\n",
    "             'hours_watched_daily']\n",
    "cleaning_df[cleaning_list] = cleaning_df[cleaning_list].astype('int')\n",
    "cleaning_df.average_games = cleaning_df.average_games.map(lambda x: x[:-7]).astype('float')\n",
    "cleaning_df.active_days_per_week = cleaning_df.active_days_per_week.map(lambda x: x[:-4]).astype('float')\n",
    "cleaning_df.daily_broadcast_time = cleaning_df.daily_broadcast_time.map(lambda x: x[:-3]).astype('int')\n",
    "cleaning_df['is_affiliate'] = [0 if x == 'unpartnered' else 1 for x in cleaning_df.broadcaster_type]\n",
    "cleaning_df['target'] = [1 if x == 'partner' else 0 for x in cleaning_df.broadcaster_type]"
   ]
  },
  {
   "cell_type": "code",
   "execution_count": 22,
   "metadata": {},
   "outputs": [],
   "source": [
    "cleaning_df.to_csv('streamer_data.csv', index = False)"
   ]
  }
 ],
 "metadata": {
  "kernelspec": {
   "display_name": "learn-env",
   "language": "python",
   "name": "learn-env"
  },
  "language_info": {
   "codemirror_mode": {
    "name": "ipython",
    "version": 3
   },
   "file_extension": ".py",
   "mimetype": "text/x-python",
   "name": "python",
   "nbconvert_exporter": "python",
   "pygments_lexer": "ipython3",
   "version": "3.6.9"
  }
 },
 "nbformat": 4,
 "nbformat_minor": 4
}
