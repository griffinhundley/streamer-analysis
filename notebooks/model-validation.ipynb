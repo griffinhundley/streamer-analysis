{
 "cells": [
  {
   "cell_type": "markdown",
   "metadata": {},
   "source": [
    "# Model Validation"
   ]
  },
  {
   "cell_type": "markdown",
   "metadata": {},
   "source": [
    "Using the validation set to gauge the ability of the model to generalize, the fourth model iteration was chosen.  For the models final evaluation it will be tested on the holdout set, consisting of 17,392 rows, representing a unique streamer/channel.  This holdout dataset was collected after the final model was selected to avoid data leakage.  Based on the validation set, it was determined that for this model, the optimal threshold for classification was 0.74."
   ]
  },
  {
   "cell_type": "code",
   "execution_count": 1,
   "metadata": {},
   "outputs": [],
   "source": [
    "# imports\n",
    "import pandas as pd\n",
    "from keras.models import load_model\n",
    "from sklearn.preprocessing import StandardScaler\n",
    "from sklearn.model_selection import train_test_split\n",
    "from sklearn.metrics import f1_score, precision_score, recall_score, confusion_matrix\n",
    "# load final model\n",
    "model = load_model('../models/model_4.h5')\n",
    "# load pickled scaler\n",
    "from pickle import load\n",
    "scaler = load(open('../data/scaler.pkl', 'rb'))"
   ]
  },
  {
   "cell_type": "code",
   "execution_count": 2,
   "metadata": {},
   "outputs": [],
   "source": [
    "# load the holdout data and transform with StandardScaler imported from training set.\n",
    "df_2 = pd.read_csv('../data/streamer_data_2.csv')\n",
    "df_2 = df_2.drop(columns = ['game_name', 'login', 'broadcaster_type', 'language'])\n",
    "df_2.account_age = pd.to_timedelta(df_2.account_age).map(lambda x: x.days)\n",
    "# separate the features from the target\n",
    "X_test = df_2.drop(columns = 'target')\n",
    "y_test = df_2.target\n",
    "# scale the features for the model\n",
    "X_test = scaler.transform(X_test)"
   ]
  },
  {
   "cell_type": "code",
   "execution_count": 3,
   "metadata": {},
   "outputs": [
    {
     "name": "stdout",
     "output_type": "stream",
     "text": [
      "Test F1: 0.7030878859857482\n",
      "Test precision: 0.921161825726141\n",
      "Test recall: 0.5685019206145967\n"
     ]
    }
   ],
   "source": [
    "# set the threshold\n",
    "threshold = 0.74\n",
    "# generate prediction probabilities\n",
    "y_preds = model.predict(X_test)\n",
    "# classify predictions based on threshold\n",
    "y_preds_thresh = [1 if x > threshold else 0 for x in y_preds]\n",
    "# calculate scores\n",
    "f1 = f1_score(y_test, y_preds_thresh)\n",
    "prec = precision_score(y_test, y_preds_thresh)\n",
    "recall = recall_score(y_test, y_preds_thresh)\n",
    "print('Test F1:', f1)\n",
    "print('Test precision:', prec)\n",
    "print('Test recall:', recall)"
   ]
  },
  {
   "cell_type": "code",
   "execution_count": 9,
   "metadata": {},
   "outputs": [
    {
     "data": {
      "text/plain": [
       "(16573, 38, 337, 444)"
      ]
     },
     "execution_count": 9,
     "metadata": {},
     "output_type": "execute_result"
    }
   ],
   "source": [
    "# create confusion matrix from predictions\n",
    "tn, fp, fn, tp = confusion_matrix(y_test, y_preds_thresh).ravel()\n",
    "tn, fp, fn, tp"
   ]
  },
  {
   "cell_type": "markdown",
   "metadata": {},
   "source": [
    "From this confusion matrix, out of `16,611` truly `non-partnered` channels, only `38` were falsely classified as being `partner`, indicating a specificity of 0.998.  Regarding the true `partner` class, of `781`, `444` were correctly classified as partner, giving a recall/sensitivity of `0.57`.  This corresponds with the initial assumption that the nature of the model would be more selective due to the inherent bias in the data.  "
   ]
  },
  {
   "cell_type": "code",
   "execution_count": 11,
   "metadata": {},
   "outputs": [
    {
     "data": {
      "text/plain": [
       "array([[1.2604144e-13]], dtype=float32)"
      ]
     },
     "execution_count": 11,
     "metadata": {},
     "output_type": "execute_result"
    }
   ],
   "source": [
    "model.predict([scaler.transform(X_test[602].reshape(1, -1))])"
   ]
  }
 ],
 "metadata": {
  "kernelspec": {
   "display_name": "learn-env",
   "language": "python",
   "name": "learn-env"
  },
  "language_info": {
   "codemirror_mode": {
    "name": "ipython",
    "version": 3
   },
   "file_extension": ".py",
   "mimetype": "text/x-python",
   "name": "python",
   "nbconvert_exporter": "python",
   "pygments_lexer": "ipython3",
   "version": "3.6.9"
  }
 },
 "nbformat": 4,
 "nbformat_minor": 4
}
